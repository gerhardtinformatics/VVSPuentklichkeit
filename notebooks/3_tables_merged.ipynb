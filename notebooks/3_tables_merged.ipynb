{
 "cells": [
  {
   "cell_type": "code",
   "execution_count": 1,
   "metadata": {
    "collapsed": true
   },
   "outputs": [],
   "source": [
    "import numpy as np\n",
    "import pandas as pd\n",
    "from pandas import Series,DataFrame\n",
    "from django.forms import model_to_dict\n",
    "\n",
    "from vvs_map.models import VVSTransport"
   ]
  },
  {
   "cell_type": "code",
   "execution_count": 19,
   "metadata": {
    "collapsed": false
   },
   "outputs": [
    {
     "data": {
      "text/html": [
       "<div>\n",
       "<table border=\"1\" class=\"dataframe\">\n",
       "  <thead>\n",
       "    <tr style=\"text-align: right;\">\n",
       "      <th></th>\n",
       "      <th>day_of_operation</th>\n",
       "      <th>id</th>\n",
       "      <th>vvs_id</th>\n",
       "      <th>vvs_transport</th>\n",
       "    </tr>\n",
       "  </thead>\n",
       "  <tbody>\n",
       "    <tr>\n",
       "      <th>0</th>\n",
       "      <td>2016-01-30 23:00:00+00:00</td>\n",
       "      <td>1</td>\n",
       "      <td>26641926</td>\n",
       "      <td>1</td>\n",
       "    </tr>\n",
       "    <tr>\n",
       "      <th>1</th>\n",
       "      <td>2016-01-30 23:00:00+00:00</td>\n",
       "      <td>2</td>\n",
       "      <td>26642711</td>\n",
       "      <td>2</td>\n",
       "    </tr>\n",
       "    <tr>\n",
       "      <th>2</th>\n",
       "      <td>2016-01-30 23:00:00+00:00</td>\n",
       "      <td>3</td>\n",
       "      <td>26642714</td>\n",
       "      <td>3</td>\n",
       "    </tr>\n",
       "    <tr>\n",
       "      <th>3</th>\n",
       "      <td>2016-01-30 23:00:00+00:00</td>\n",
       "      <td>4</td>\n",
       "      <td>26642719</td>\n",
       "      <td>4</td>\n",
       "    </tr>\n",
       "    <tr>\n",
       "      <th>4</th>\n",
       "      <td>2016-01-30 23:00:00+00:00</td>\n",
       "      <td>5</td>\n",
       "      <td>26642740</td>\n",
       "      <td>5</td>\n",
       "    </tr>\n",
       "  </tbody>\n",
       "</table>\n",
       "</div>"
      ],
      "text/plain": [
       "           day_of_operation  id    vvs_id  vvs_transport\n",
       "0 2016-01-30 23:00:00+00:00   1  26641926              1\n",
       "1 2016-01-30 23:00:00+00:00   2  26642711              2\n",
       "2 2016-01-30 23:00:00+00:00   3  26642714              3\n",
       "3 2016-01-30 23:00:00+00:00   4  26642719              4\n",
       "4 2016-01-30 23:00:00+00:00   5  26642740              5"
      ]
     },
     "execution_count": 19,
     "metadata": {},
     "output_type": "execute_result"
    }
   ],
   "source": [
    "qs_transport = VVSTransport.objects.all()\n",
    "qs_journey = VVSJourney.objects.all()\n",
    "qs_data = VVSData.objects.all()\n",
    "# Get all object from QuerySet to a DataFrame\n",
    "# Transport\n",
    "objs = [ model_to_dict(obj) for obj in qs_transport] \n",
    "df_transport = pd.DataFrame(objs)\n",
    "# Journey\n",
    "objs = [ model_to_dict(obj) for obj in qs_journey] \n",
    "df_journey = pd.DataFrame(objs)\n",
    "# Data\n",
    "objs = [ model_to_dict(obj) for obj in qs_data] \n",
    "df_data = pd.DataFrame(objs)\n",
    "df_journey.head()"
   ]
  },
  {
   "cell_type": "code",
   "execution_count": 3,
   "metadata": {
    "collapsed": true
   },
   "outputs": [],
   "source": [
    "# merge journey and transport on foreign key\n",
    "df_journey_trasnport = pd.merge(df_journey,df_transport,left_on='vvs_transport',right_on='id')"
   ]
  },
  {
   "cell_type": "code",
   "execution_count": 4,
   "metadata": {
    "collapsed": false
   },
   "outputs": [],
   "source": [
    "df_data_journey_trasnport = pd.merge(df_journey_trasnport,df_data,left_on='id_x',right_on='vvs_journey')"
   ]
  },
  {
   "cell_type": "code",
   "execution_count": 18,
   "metadata": {
    "collapsed": false
   },
   "outputs": [
    {
     "data": {
      "text/html": [
       "<div>\n",
       "<table border=\"1\" class=\"dataframe\">\n",
       "  <thead>\n",
       "    <tr style=\"text-align: right;\">\n",
       "      <th></th>\n",
       "      <th>day_of_operation</th>\n",
       "      <th>id_x</th>\n",
       "      <th>vvs_id</th>\n",
       "      <th>vvs_transport</th>\n",
       "      <th>direction_text</th>\n",
       "      <th>id_y</th>\n",
       "      <th>journey_id</th>\n",
       "      <th>line_text</th>\n",
       "      <th>mod_code</th>\n",
       "      <th>operator</th>\n",
       "      <th>...</th>\n",
       "      <th>is_at_stop</th>\n",
       "      <th>latitude</th>\n",
       "      <th>latitude_before</th>\n",
       "      <th>longitude</th>\n",
       "      <th>longitude_before</th>\n",
       "      <th>next_stop</th>\n",
       "      <th>real_time_available</th>\n",
       "      <th>timestamp</th>\n",
       "      <th>timestamp_before</th>\n",
       "      <th>vvs_journey</th>\n",
       "    </tr>\n",
       "  </thead>\n",
       "  <tbody>\n",
       "    <tr>\n",
       "      <th>0</th>\n",
       "      <td>2016-01-30 23:00:00+00:00</td>\n",
       "      <td>1</td>\n",
       "      <td>26641926</td>\n",
       "      <td>1</td>\n",
       "      <td>TÃ¼bingen Hauptbahnhof</td>\n",
       "      <td>1</td>\n",
       "      <td>33966</td>\n",
       "      <td>Bus 828</td>\n",
       "      <td>5</td>\n",
       "      <td></td>\n",
       "      <td>...</td>\n",
       "      <td>True</td>\n",
       "      <td>174761643</td>\n",
       "      <td>174763341</td>\n",
       "      <td>32672841</td>\n",
       "      <td>32672416</td>\n",
       "      <td>5020305#0#3</td>\n",
       "      <td>False</td>\n",
       "      <td>2016-02-01 09:08:42+00:00</td>\n",
       "      <td>2016-02-01 09:08:35+00:00</td>\n",
       "      <td>1</td>\n",
       "    </tr>\n",
       "    <tr>\n",
       "      <th>1</th>\n",
       "      <td>2016-01-30 23:00:00+00:00</td>\n",
       "      <td>1</td>\n",
       "      <td>26641926</td>\n",
       "      <td>1</td>\n",
       "      <td>TÃ¼bingen Hauptbahnhof</td>\n",
       "      <td>1</td>\n",
       "      <td>33966</td>\n",
       "      <td>Bus 828</td>\n",
       "      <td>5</td>\n",
       "      <td></td>\n",
       "      <td>...</td>\n",
       "      <td>True</td>\n",
       "      <td>174726902</td>\n",
       "      <td>174751485</td>\n",
       "      <td>32677763</td>\n",
       "      <td>32674245</td>\n",
       "      <td>5020305#0#3</td>\n",
       "      <td>False</td>\n",
       "      <td>2016-02-01 09:09:10+00:00</td>\n",
       "      <td>2016-02-01 09:09:03+00:00</td>\n",
       "      <td>1</td>\n",
       "    </tr>\n",
       "    <tr>\n",
       "      <th>2</th>\n",
       "      <td>2016-01-30 23:00:00+00:00</td>\n",
       "      <td>1</td>\n",
       "      <td>26641926</td>\n",
       "      <td>1</td>\n",
       "      <td>TÃ¼bingen Hauptbahnhof</td>\n",
       "      <td>1</td>\n",
       "      <td>33966</td>\n",
       "      <td>Bus 828</td>\n",
       "      <td>5</td>\n",
       "      <td></td>\n",
       "      <td>...</td>\n",
       "      <td>True</td>\n",
       "      <td>174715329</td>\n",
       "      <td>174716674</td>\n",
       "      <td>32678922</td>\n",
       "      <td>32679044</td>\n",
       "      <td>5020305#0#3</td>\n",
       "      <td>False</td>\n",
       "      <td>2016-02-01 09:09:37+00:00</td>\n",
       "      <td>2016-02-01 09:09:30+00:00</td>\n",
       "      <td>1</td>\n",
       "    </tr>\n",
       "    <tr>\n",
       "      <th>3</th>\n",
       "      <td>2016-01-30 23:00:00+00:00</td>\n",
       "      <td>1</td>\n",
       "      <td>26641926</td>\n",
       "      <td>1</td>\n",
       "      <td>TÃ¼bingen Hauptbahnhof</td>\n",
       "      <td>1</td>\n",
       "      <td>33966</td>\n",
       "      <td>Bus 828</td>\n",
       "      <td>5</td>\n",
       "      <td></td>\n",
       "      <td>...</td>\n",
       "      <td>True</td>\n",
       "      <td>174711426</td>\n",
       "      <td>174712175</td>\n",
       "      <td>32674120</td>\n",
       "      <td>32675564</td>\n",
       "      <td>5020505#0#3</td>\n",
       "      <td>False</td>\n",
       "      <td>2016-02-01 09:10:11+00:00</td>\n",
       "      <td>2016-02-01 09:10:04+00:00</td>\n",
       "      <td>1</td>\n",
       "    </tr>\n",
       "    <tr>\n",
       "      <th>4</th>\n",
       "      <td>2016-01-30 23:00:00+00:00</td>\n",
       "      <td>1</td>\n",
       "      <td>26641926</td>\n",
       "      <td>1</td>\n",
       "      <td>TÃ¼bingen Hauptbahnhof</td>\n",
       "      <td>1</td>\n",
       "      <td>33966</td>\n",
       "      <td>Bus 828</td>\n",
       "      <td>5</td>\n",
       "      <td></td>\n",
       "      <td>...</td>\n",
       "      <td>True</td>\n",
       "      <td>174708261</td>\n",
       "      <td>174708557</td>\n",
       "      <td>32666787</td>\n",
       "      <td>32667820</td>\n",
       "      <td>5020505#0#3</td>\n",
       "      <td>False</td>\n",
       "      <td>2016-02-01 09:10:39+00:00</td>\n",
       "      <td>2016-02-01 09:10:32+00:00</td>\n",
       "      <td>1</td>\n",
       "    </tr>\n",
       "  </tbody>\n",
       "</table>\n",
       "<p>5 rows × 24 columns</p>\n",
       "</div>"
      ],
      "text/plain": [
       "           day_of_operation  id_x    vvs_id  vvs_transport  \\\n",
       "0 2016-01-30 23:00:00+00:00     1  26641926              1   \n",
       "1 2016-01-30 23:00:00+00:00     1  26641926              1   \n",
       "2 2016-01-30 23:00:00+00:00     1  26641926              1   \n",
       "3 2016-01-30 23:00:00+00:00     1  26641926              1   \n",
       "4 2016-01-30 23:00:00+00:00     1  26641926              1   \n",
       "\n",
       "           direction_text  id_y  journey_id line_text  mod_code operator  \\\n",
       "0  TÃ¼bingen Hauptbahnhof     1       33966   Bus 828         5            \n",
       "1  TÃ¼bingen Hauptbahnhof     1       33966   Bus 828         5            \n",
       "2  TÃ¼bingen Hauptbahnhof     1       33966   Bus 828         5            \n",
       "3  TÃ¼bingen Hauptbahnhof     1       33966   Bus 828         5            \n",
       "4  TÃ¼bingen Hauptbahnhof     1       33966   Bus 828         5            \n",
       "\n",
       "      ...     is_at_stop   latitude  latitude_before  longitude  \\\n",
       "0     ...           True  174761643        174763341   32672841   \n",
       "1     ...           True  174726902        174751485   32677763   \n",
       "2     ...           True  174715329        174716674   32678922   \n",
       "3     ...           True  174711426        174712175   32674120   \n",
       "4     ...           True  174708261        174708557   32666787   \n",
       "\n",
       "  longitude_before    next_stop  real_time_available  \\\n",
       "0         32672416  5020305#0#3                False   \n",
       "1         32674245  5020305#0#3                False   \n",
       "2         32679044  5020305#0#3                False   \n",
       "3         32675564  5020505#0#3                False   \n",
       "4         32667820  5020505#0#3                False   \n",
       "\n",
       "                  timestamp          timestamp_before vvs_journey  \n",
       "0 2016-02-01 09:08:42+00:00 2016-02-01 09:08:35+00:00           1  \n",
       "1 2016-02-01 09:09:10+00:00 2016-02-01 09:09:03+00:00           1  \n",
       "2 2016-02-01 09:09:37+00:00 2016-02-01 09:09:30+00:00           1  \n",
       "3 2016-02-01 09:10:11+00:00 2016-02-01 09:10:04+00:00           1  \n",
       "4 2016-02-01 09:10:39+00:00 2016-02-01 09:10:32+00:00           1  \n",
       "\n",
       "[5 rows x 24 columns]"
      ]
     },
     "execution_count": 18,
     "metadata": {},
     "output_type": "execute_result"
    }
   ],
   "source": [
    "# find out as much as we can about Bus 82\n",
    "df_data_journey_trasnport.head()"
   ]
  },
  {
   "cell_type": "code",
   "execution_count": 6,
   "metadata": {
    "collapsed": false
   },
   "outputs": [],
   "source": [
    "df_data_bus82 = df_data_journey_trasnport[df_data_journey_trasnport.line_text == 'Bus 82']"
   ]
  },
  {
   "cell_type": "code",
   "execution_count": 7,
   "metadata": {
    "collapsed": false
   },
   "outputs": [
    {
     "data": {
      "text/plain": [
       "array(['Rohr Mitte', 'Waldeck', 'Leinfelden Bf', 'Vaihingen ZOB'], dtype=object)"
      ]
     },
     "execution_count": 7,
     "metadata": {},
     "output_type": "execute_result"
    }
   ],
   "source": [
    "# what directions does it have?\n",
    "df_data_bus82.direction_text.unique()"
   ]
  },
  {
   "cell_type": "code",
   "execution_count": 8,
   "metadata": {
    "collapsed": false
   },
   "outputs": [
    {
     "name": "stdout",
     "output_type": "stream",
     "text": [
      "2016-02-01 09:08:42+00:00  -  2016-02-03 07:54:34+00:00\n"
     ]
    }
   ],
   "source": [
    "# what time range do we have data for\n",
    "period_start = df_data_bus82.timestamp.sort_values().min()\n",
    "period_end = df_data_bus82.timestamp.sort_values().max()\n",
    "print(period_start, \" - \", period_end)"
   ]
  },
  {
   "cell_type": "code",
   "execution_count": 9,
   "metadata": {
    "collapsed": false
   },
   "outputs": [
    {
     "data": {
      "text/plain": [
       "array(['5002595#0#3', '5006004#2#3', '5006012#1#3', '5006002#7#6',\n",
       "       '5000002#0#3', '5006015#0#3', '5006016#0#3', '5002615#0#1',\n",
       "       '5002610#0#3', '5002615#0#3', '5002616#0#3', '5002611#0#3',\n",
       "       '5006014#3#1', '5002578#0#3', '5002604#0#3', '5006008#3#3',\n",
       "       '5002603#0#3', '5002580#0#3', '5002602#0#3', '5002701#0#3',\n",
       "       '5006012#1#4', '5006004#3#4', '5002595#0#4', '5002701#0#4',\n",
       "       '5002602#0#4', '5002580#0#4', '5002603#0#4', '5006008#4#4',\n",
       "       '5002604#0#4', '5002605#0#4', '5002609#0#4', '5002578#0#4',\n",
       "       '5006010#2#4', '5002611#0#4', '5002615#0#2', '5006016#0#4',\n",
       "       '5006015#0#4', '5000002#0#4', '5006002#6#5', '5002609#0#3',\n",
       "       '5002605#0#3', '5007103#0#2', '5002099#0#2', '5002108#0#4',\n",
       "       '5002109#0#4', '5002110#0#3', '5002106#0#3', '5002125#0#4',\n",
       "       '5006007#0#4', '5006014#1#2', '5006007#0#3', '5002125#0#3',\n",
       "       '5002106#0#4', '5002109#0#3', '5002138#0#3', '5002108#0#3',\n",
       "       '5007105#0#1', '5002099#0#1', '5002069#1#1', '5000175#4#3',\n",
       "       '5002107#0#4', '5007103#0#1', '5006018#0#3', '5006018#0#4'], dtype=object)"
      ]
     },
     "execution_count": 9,
     "metadata": {},
     "output_type": "execute_result"
    }
   ],
   "source": [
    "# what are the stops\n",
    "df_data_bus82.next_stop.unique()"
   ]
  },
  {
   "cell_type": "code",
   "execution_count": 20,
   "metadata": {
    "collapsed": false
   },
   "outputs": [
    {
     "data": {
      "text/plain": [
       "35393      32793255\n",
       "35394      32794132\n",
       "35395      32795057\n",
       "35396      32794785\n",
       "35397      32795038\n",
       "35398      32797942\n",
       "35399      32802819\n",
       "35400      32805956\n",
       "35401      32821058\n",
       "35402      32822926\n",
       "35403      32816866\n",
       "35404      32805891\n",
       "35405      32804319\n",
       "35406      32804319\n",
       "35407      32804319\n",
       "35408      32792744\n",
       "35409      32786729\n",
       "35410      32771530\n",
       "35411      32760701\n",
       "35412      32740038\n",
       "35413      32740038\n",
       "35414      32729869\n",
       "35415      32729869\n",
       "35416      32729842\n",
       "35417      32747810\n",
       "35418      32749386\n",
       "35419      32745847\n",
       "35420      32731168\n",
       "35421      32731168\n",
       "35422      32731168\n",
       "             ...   \n",
       "2364884    32795082\n",
       "2364885    32801328\n",
       "2364886    32803882\n",
       "2364887    32811598\n",
       "2364888    32823096\n",
       "2364889    32822223\n",
       "2364890    32814503\n",
       "2364891    32804642\n",
       "2364892    32804319\n",
       "2364893    32804319\n",
       "2364894    32798965\n",
       "2364895    32790178\n",
       "2364896    32781365\n",
       "2364897    32766773\n",
       "2364898    32729869\n",
       "2364899    32729869\n",
       "2364900    32736592\n",
       "2364901    32745903\n",
       "2364902    32749800\n",
       "2364903    32741219\n",
       "2364904    32731168\n",
       "2364905    32731168\n",
       "2364906    32730772\n",
       "2364907    32730772\n",
       "2364908    32733858\n",
       "2364909    32747749\n",
       "2364910    32757277\n",
       "2364911    32762512\n",
       "2364912    32767939\n",
       "2364913    32778133\n",
       "Name: longitude, dtype: int64"
      ]
     },
     "execution_count": 20,
     "metadata": {},
     "output_type": "execute_result"
    }
   ],
   "source": [
    "# what were the known positions\n",
    "positions_longitude = df_data_bus82['longitude']\n",
    "positions_latitude = df_data_bus82['latitude']\n",
    "positions_longitude"
   ]
  },
  {
   "cell_type": "code",
   "execution_count": 21,
   "metadata": {
    "collapsed": false
   },
   "outputs": [
    {
     "data": {
      "text/html": [
       "<div>\n",
       "<table border=\"1\" class=\"dataframe\">\n",
       "  <thead>\n",
       "    <tr style=\"text-align: right;\">\n",
       "      <th></th>\n",
       "      <th>latitude</th>\n",
       "      <th>longitude</th>\n",
       "    </tr>\n",
       "  </thead>\n",
       "  <tbody>\n",
       "    <tr>\n",
       "      <th>35393</th>\n",
       "      <td>48.731505</td>\n",
       "      <td>9.109238</td>\n",
       "    </tr>\n",
       "    <tr>\n",
       "      <th>35394</th>\n",
       "      <td>48.731236</td>\n",
       "      <td>9.109481</td>\n",
       "    </tr>\n",
       "    <tr>\n",
       "      <th>35395</th>\n",
       "      <td>48.730231</td>\n",
       "      <td>9.109738</td>\n",
       "    </tr>\n",
       "    <tr>\n",
       "      <th>35396</th>\n",
       "      <td>48.730787</td>\n",
       "      <td>9.109663</td>\n",
       "    </tr>\n",
       "    <tr>\n",
       "      <th>35397</th>\n",
       "      <td>48.730398</td>\n",
       "      <td>9.109733</td>\n",
       "    </tr>\n",
       "  </tbody>\n",
       "</table>\n",
       "</div>"
      ],
      "text/plain": [
       "        latitude  longitude\n",
       "35393  48.731505   9.109238\n",
       "35394  48.731236   9.109481\n",
       "35395  48.730231   9.109738\n",
       "35396  48.730787   9.109663\n",
       "35397  48.730398   9.109733"
      ]
     },
     "execution_count": 21,
     "metadata": {},
     "output_type": "execute_result"
    }
   ],
   "source": [
    "df_positions = DataFrame(dict(longitude = positions_longitude/3600000, latitude = positions_latitude/3600000))\n",
    "df_positions.head()"
   ]
  },
  {
   "cell_type": "code",
   "execution_count": 12,
   "metadata": {
    "collapsed": false
   },
   "outputs": [],
   "source": [
    "# delays sum\n",
    "delays_in_sec = df_data_bus82.delay.sum()"
   ]
  },
  {
   "cell_type": "code",
   "execution_count": 13,
   "metadata": {
    "collapsed": false
   },
   "outputs": [
    {
     "data": {
      "text/plain": [
       "line_text\n",
       "Bus 194    216.800847\n",
       "Bus 171    210.623557\n",
       "Bus 197    180.529412\n",
       "Bus 60     138.649917\n",
       "Bus 92     138.140974\n",
       "Bus 246    137.151052\n",
       "Bus 56     129.497883\n",
       "Bus 592    121.008976\n",
       "Bus 52     112.536935\n",
       "Bus 106    112.030061\n",
       "Name: delay, dtype: float64"
      ]
     },
     "execution_count": 13,
     "metadata": {},
     "output_type": "execute_result"
    }
   ],
   "source": [
    "# Which line has the most delay, summed up\n",
    "d = df_data_journey_trasnport.groupby('line_text').mean().sort_values('delay',ascending=False)\n",
    "# the top 10\n",
    "d.delay.head(10)"
   ]
  },
  {
   "cell_type": "code",
   "execution_count": null,
   "metadata": {
    "collapsed": false
   },
   "outputs": [],
   "source": []
  },
  {
   "cell_type": "code",
   "execution_count": 14,
   "metadata": {
    "collapsed": true
   },
   "outputs": [],
   "source": [
    "def getDirections(line_text_param):\n",
    "    return df_data_journey_trasnport[df_data_journey_trasnport.line_text == line_text_param].direction_text.unique()"
   ]
  },
  {
   "cell_type": "code",
   "execution_count": 15,
   "metadata": {
    "collapsed": false
   },
   "outputs": [
    {
     "data": {
      "text/plain": [
       "array(['Rohr Mitte', 'Waldeck', 'Leinfelden Bf', 'Vaihingen ZOB'], dtype=object)"
      ]
     },
     "execution_count": 15,
     "metadata": {},
     "output_type": "execute_result"
    }
   ],
   "source": [
    "getDirections('Bus 82')"
   ]
  },
  {
   "cell_type": "code",
   "execution_count": 16,
   "metadata": {
    "collapsed": false
   },
   "outputs": [
    {
     "data": {
      "text/plain": [
       "array(['GroÃ\\x9fbettlingen Metzinger Str.', 'NÃ¼rtingen ZOB',\n",
       "       'Grafenberg Ziegelwasenstr.'], dtype=object)"
      ]
     },
     "execution_count": 16,
     "metadata": {},
     "output_type": "execute_result"
    }
   ],
   "source": [
    "getDirections('Bus 185')"
   ]
  },
  {
   "cell_type": "code",
   "execution_count": 17,
   "metadata": {
    "collapsed": false
   },
   "outputs": [
    {
     "data": {
      "text/plain": [
       "array(['Freiberg', 'MarabustraÃ\\x9fe', 'Sommerrain', 'Max-Eyth-See'], dtype=object)"
      ]
     },
     "execution_count": 17,
     "metadata": {},
     "output_type": "execute_result"
    }
   ],
   "source": [
    "getDirections('Bus 54')"
   ]
  },
  {
   "cell_type": "code",
   "execution_count": null,
   "metadata": {
    "collapsed": true
   },
   "outputs": [],
   "source": []
  }
 ],
 "metadata": {
  "kernelspec": {
   "display_name": "Django Shell-Plus",
   "language": "python",
   "name": "django_extensions"
  },
  "language_info": {
   "codemirror_mode": {
    "name": "ipython",
    "version": 3
   },
   "file_extension": ".py",
   "mimetype": "text/x-python",
   "name": "python",
   "nbconvert_exporter": "python",
   "pygments_lexer": "ipython3",
   "version": "3.5.1"
  }
 },
 "nbformat": 4,
 "nbformat_minor": 0
}
