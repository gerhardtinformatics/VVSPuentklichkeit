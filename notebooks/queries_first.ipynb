{
 "cells": [
  {
   "cell_type": "code",
   "execution_count": 3,
   "metadata": {
    "collapsed": true
   },
   "outputs": [],
   "source": [
    "import numpy as np\n",
    "import pandas as pd\n",
    "from pandas import Series,DataFrame\n",
    "from django.forms import model_to_dict\n",
    "\n",
    "from vvs_map.models import VVSTransport"
   ]
  },
  {
   "cell_type": "code",
   "execution_count": 31,
   "metadata": {
    "collapsed": false
   },
   "outputs": [
    {
     "data": {
      "text/plain": [
       "<VVSTransport: Linie Bus 828, Richtung TÃ¼bingen Hauptbahnhof, Journey_id 33966>"
      ]
     },
     "execution_count": 31,
     "metadata": {},
     "output_type": "execute_result"
    }
   ],
   "source": [
    "VVSJourney.objects.get(id=1).vvs_transport"
   ]
  },
  {
   "cell_type": "code",
   "execution_count": 4,
   "metadata": {
    "collapsed": false
   },
   "outputs": [],
   "source": [
    "# find bus 82\n",
    "vvs_transport_bus82 = VVSTransport.objects.filter(line_text='Bus 82')"
   ]
  },
  {
   "cell_type": "code",
   "execution_count": 5,
   "metadata": {
    "collapsed": false
   },
   "outputs": [],
   "source": [
    "# create an array with ids of this above\n",
    "transport_ids = []\n",
    "# The `iterator()` method ensures only a few rows are fetched from\n",
    "# the database at a time, saving memory.\n",
    "for transport in vvs_transport_bus82.iterator():\n",
    "    transport_ids.append(transport.id)"
   ]
  },
  {
   "cell_type": "code",
   "execution_count": 6,
   "metadata": {
    "collapsed": false
   },
   "outputs": [],
   "source": [
    "# use the array of transport ids to query in journey\n",
    "vvs_journey_bus82 = VVSJourney.objects.filter(vvs_transport__in=transport_ids)"
   ]
  },
  {
   "cell_type": "code",
   "execution_count": 7,
   "metadata": {
    "collapsed": false
   },
   "outputs": [],
   "source": [
    "# now we have the journey objects for Bus 82 \n",
    "# crete an array with journey_ids\n",
    "journey_ids = []\n",
    "for journey in vvs_journey_bus82.iterator():\n",
    "    journey_ids.append(journey.id)"
   ]
  },
  {
   "cell_type": "code",
   "execution_count": 21,
   "metadata": {
    "collapsed": false
   },
   "outputs": [
    {
     "data": {
      "text/plain": [
       "12532"
      ]
     },
     "execution_count": 21,
     "metadata": {},
     "output_type": "execute_result"
    }
   ],
   "source": [
    "# let's filter for data related to theese journeys\n",
    "vvs_data_bus82 = VVSData.objects.filter(vvs_journey__in=journey_ids)\n",
    "vvs_data_bus82.count()"
   ]
  },
  {
   "cell_type": "code",
   "execution_count": 9,
   "metadata": {
    "collapsed": false
   },
   "outputs": [],
   "source": [
    "# ONLY NOW create dataFrames from queryset\n",
    "df_data_bus82 = pd.DataFrame([model_to_dict(obj) for obj in vvs_data_bus82])"
   ]
  },
  {
   "cell_type": "code",
   "execution_count": 10,
   "metadata": {
    "collapsed": false
   },
   "outputs": [
    {
     "data": {
      "text/html": [
       "<div>\n",
       "<table border=\"1\" class=\"dataframe\">\n",
       "  <thead>\n",
       "    <tr style=\"text-align: right;\">\n",
       "      <th></th>\n",
       "      <th>current_stop</th>\n",
       "      <th>delay</th>\n",
       "      <th>id</th>\n",
       "      <th>is_at_stop</th>\n",
       "      <th>latitude</th>\n",
       "      <th>latitude_before</th>\n",
       "      <th>longitude</th>\n",
       "      <th>longitude_before</th>\n",
       "      <th>next_stop</th>\n",
       "      <th>real_time_available</th>\n",
       "      <th>timestamp</th>\n",
       "      <th>timestamp_before</th>\n",
       "      <th>vvs_journey</th>\n",
       "    </tr>\n",
       "  </thead>\n",
       "  <tbody>\n",
       "    <tr>\n",
       "      <th>0</th>\n",
       "      <td>5002701#0#3</td>\n",
       "      <td>0</td>\n",
       "      <td>340</td>\n",
       "      <td>True</td>\n",
       "      <td>175433417</td>\n",
       "      <td>175434038</td>\n",
       "      <td>32793255</td>\n",
       "      <td>32792884</td>\n",
       "      <td>5002595#0#3</td>\n",
       "      <td>True</td>\n",
       "      <td>2016-02-01 09:08:42+00:00</td>\n",
       "      <td>2016-02-01 09:08:35+00:00</td>\n",
       "      <td>340</td>\n",
       "    </tr>\n",
       "    <tr>\n",
       "      <th>1</th>\n",
       "      <td>5006002#6#5</td>\n",
       "      <td>180</td>\n",
       "      <td>452</td>\n",
       "      <td>True</td>\n",
       "      <td>175425069</td>\n",
       "      <td>175423770</td>\n",
       "      <td>32821257</td>\n",
       "      <td>32819010</td>\n",
       "      <td>5006012#1#4</td>\n",
       "      <td>True</td>\n",
       "      <td>2016-02-01 09:08:42+00:00</td>\n",
       "      <td>2016-02-01 09:08:35+00:00</td>\n",
       "      <td>452</td>\n",
       "    </tr>\n",
       "    <tr>\n",
       "      <th>2</th>\n",
       "      <td>5002595#0#3</td>\n",
       "      <td>0</td>\n",
       "      <td>836</td>\n",
       "      <td>True</td>\n",
       "      <td>175432450</td>\n",
       "      <td>175432833</td>\n",
       "      <td>32794132</td>\n",
       "      <td>32793737</td>\n",
       "      <td>5006004#2#3</td>\n",
       "      <td>True</td>\n",
       "      <td>2016-02-01 09:09:10+00:00</td>\n",
       "      <td>2016-02-01 09:09:03+00:00</td>\n",
       "      <td>340</td>\n",
       "    </tr>\n",
       "    <tr>\n",
       "      <th>3</th>\n",
       "      <td>5006012#1#4</td>\n",
       "      <td>180</td>\n",
       "      <td>947</td>\n",
       "      <td>True</td>\n",
       "      <td>175427261</td>\n",
       "      <td>175427254</td>\n",
       "      <td>32819191</td>\n",
       "      <td>32820285</td>\n",
       "      <td>5006004#3#4</td>\n",
       "      <td>True</td>\n",
       "      <td>2016-02-01 09:09:10+00:00</td>\n",
       "      <td>2016-02-01 09:09:03+00:00</td>\n",
       "      <td>452</td>\n",
       "    </tr>\n",
       "    <tr>\n",
       "      <th>4</th>\n",
       "      <td>5002595#0#3</td>\n",
       "      <td>0</td>\n",
       "      <td>1347</td>\n",
       "      <td>True</td>\n",
       "      <td>175428831</td>\n",
       "      <td>175429316</td>\n",
       "      <td>32795057</td>\n",
       "      <td>32795046</td>\n",
       "      <td>5006004#2#3</td>\n",
       "      <td>True</td>\n",
       "      <td>2016-02-01 09:10:11+00:00</td>\n",
       "      <td>2016-02-01 09:10:04+00:00</td>\n",
       "      <td>340</td>\n",
       "    </tr>\n",
       "  </tbody>\n",
       "</table>\n",
       "</div>"
      ],
      "text/plain": [
       "  current_stop  delay    id is_at_stop   latitude  latitude_before  longitude  \\\n",
       "0  5002701#0#3      0   340       True  175433417        175434038   32793255   \n",
       "1  5006002#6#5    180   452       True  175425069        175423770   32821257   \n",
       "2  5002595#0#3      0   836       True  175432450        175432833   32794132   \n",
       "3  5006012#1#4    180   947       True  175427261        175427254   32819191   \n",
       "4  5002595#0#3      0  1347       True  175428831        175429316   32795057   \n",
       "\n",
       "   longitude_before    next_stop real_time_available  \\\n",
       "0          32792884  5002595#0#3                True   \n",
       "1          32819010  5006012#1#4                True   \n",
       "2          32793737  5006004#2#3                True   \n",
       "3          32820285  5006004#3#4                True   \n",
       "4          32795046  5006004#2#3                True   \n",
       "\n",
       "                  timestamp          timestamp_before  vvs_journey  \n",
       "0 2016-02-01 09:08:42+00:00 2016-02-01 09:08:35+00:00          340  \n",
       "1 2016-02-01 09:08:42+00:00 2016-02-01 09:08:35+00:00          452  \n",
       "2 2016-02-01 09:09:10+00:00 2016-02-01 09:09:03+00:00          340  \n",
       "3 2016-02-01 09:09:10+00:00 2016-02-01 09:09:03+00:00          452  \n",
       "4 2016-02-01 09:10:11+00:00 2016-02-01 09:10:04+00:00          340  "
      ]
     },
     "execution_count": 10,
     "metadata": {},
     "output_type": "execute_result"
    }
   ],
   "source": [
    "df_data_bus82.head()"
   ]
  },
  {
   "cell_type": "code",
   "execution_count": 11,
   "metadata": {
    "collapsed": false
   },
   "outputs": [
    {
     "data": {
      "text/plain": [
       "array(['5002701#0#3', '5006002#6#5', '5002595#0#3', '5006012#1#4',\n",
       "       '5006004#3#4', '5006014#1#2', '5006004#2#3', '5002595#0#4',\n",
       "       '5006012#1#3', '5002701#0#4', '5002611#0#4', '5002602#0#4',\n",
       "       '5002616#0#3', '5006002#7#6', '5002580#0#4', '5002615#0#2',\n",
       "       '5006010#2#3', '5002610#0#3', '5002578#0#3', '5000002#0#3',\n",
       "       '5002603#0#4', '5002609#0#3', '5006015#0#3', '5006008#4#4',\n",
       "       '5002615#0#3', '5002605#0#3', '5006016#0#3', '5006016#0#4',\n",
       "       '5002604#0#3', '5002615#0#1', '5002604#0#4', '5006015#0#4',\n",
       "       '5002605#0#4', '5000002#0#4', '5006008#3#3', '5002609#0#4',\n",
       "       '5002603#0#3', '5002578#0#4', '5002580#0#3', '5002602#0#3',\n",
       "       '5002611#0#3', '5000175#4#3', '5007103#0#2', '5007105#0#2',\n",
       "       '5002138#0#4', '5002109#0#4', '5002107#0#3', '5002106#0#3',\n",
       "       '5002125#0#4', '5006007#0#4', '5006014#3#1', '5006007#0#3',\n",
       "       '5002125#0#3', '5002110#0#4', '5002109#0#3', '5002138#0#3',\n",
       "       '5002108#0#3', '5007105#0#1', '5007103#0#1', '5002069#1#1',\n",
       "       '5002106#0#4', '5002099#0#1', '5002591#0#p3', '5006018#0#4'], dtype=object)"
      ]
     },
     "execution_count": 11,
     "metadata": {},
     "output_type": "execute_result"
    }
   ],
   "source": [
    "# list of stops\n",
    "df_data_bus82.current_stop.unique()"
   ]
  },
  {
   "cell_type": "code",
   "execution_count": 12,
   "metadata": {
    "collapsed": false
   },
   "outputs": [
    {
     "data": {
      "text/plain": [
       "current_stop                         5006002#6#5\n",
       "delay                                        180\n",
       "id                                           452\n",
       "is_at_stop                                  True\n",
       "latitude                               175425069\n",
       "latitude_before                      1.75424e+08\n",
       "longitude                               32821257\n",
       "longitude_before                      3.2819e+07\n",
       "next_stop                            5006012#1#4\n",
       "real_time_available                         True\n",
       "timestamp              2016-02-01 09:08:42+00:00\n",
       "timestamp_before       2016-02-01 09:08:35+00:00\n",
       "vvs_journey                                  452\n",
       "Name: 1, dtype: object"
      ]
     },
     "execution_count": 12,
     "metadata": {},
     "output_type": "execute_result"
    }
   ],
   "source": [
    "df_data_bus82.ix[1]\n"
   ]
  },
  {
   "cell_type": "code",
   "execution_count": 13,
   "metadata": {
    "collapsed": false
   },
   "outputs": [
    {
     "data": {
      "text/plain": [
       "607590"
      ]
     },
     "execution_count": 13,
     "metadata": {},
     "output_type": "execute_result"
    }
   ],
   "source": [
    "# summed up delay\n",
    "df_data_bus82.delay.sum()"
   ]
  },
  {
   "cell_type": "code",
   "execution_count": 17,
   "metadata": {
    "collapsed": false
   },
   "outputs": [],
   "source": [
    "# visualize coordinates\n",
    "def gmap(lat,lon,zoom=15):\n",
    "\n",
    "    from IPython.display import IFrame\n",
    "    from IPython.core.display import display\n",
    "\n",
    "    # Google Maps URL template for an iframe\n",
    "    google_maps_url = \"http://maps.google.com/maps?q={0}+{1}&z={2}&output=embed\".format(lat, lon,zoom)\n",
    "\n",
    "    display(IFrame(google_maps_url, '625px', '450px'))"
   ]
  },
  {
   "cell_type": "code",
   "execution_count": 18,
   "metadata": {
    "collapsed": false
   },
   "outputs": [],
   "source": [
    "def showPos(index):\n",
    "    row = df_data_bus82.ix[index]\n",
    "    print(row)\n",
    "    lon = row.longitude / 3600000\n",
    "    lat = row.latitude / 3600000\n",
    "    print(\"lat: {}, lon: {}\".format(lat,lon))\n",
    "    gmap(lat, lon)"
   ]
  },
  {
   "cell_type": "code",
   "execution_count": 26,
   "metadata": {
    "collapsed": false
   },
   "outputs": [
    {
     "name": "stdout",
     "output_type": "stream",
     "text": [
      "current_stop                         5006002#6#5\n",
      "delay                                        180\n",
      "id                                           452\n",
      "is_at_stop                                  True\n",
      "latitude                               175425069\n",
      "latitude_before                      1.75424e+08\n",
      "longitude                               32821257\n",
      "longitude_before                      3.2819e+07\n",
      "next_stop                            5006012#1#4\n",
      "real_time_available                         True\n",
      "timestamp              2016-02-01 09:08:42+00:00\n",
      "timestamp_before       2016-02-01 09:08:35+00:00\n",
      "vvs_journey                                  452\n",
      "Name: 1, dtype: object\n",
      "lat: 48.72918583333333, lon: 9.117015833333333\n"
     ]
    },
    {
     "data": {
      "text/html": [
       "\n",
       "        <iframe\n",
       "            width=\"625px\"\n",
       "            height=\"450px\"\n",
       "            src=\"http://maps.google.com/maps?q=48.72918583333333+9.117015833333333&z=15&output=embed\"\n",
       "            frameborder=\"0\"\n",
       "            allowfullscreen\n",
       "        ></iframe>\n",
       "        "
      ],
      "text/plain": [
       "<IPython.lib.display.IFrame at 0xa1d7d30>"
      ]
     },
     "metadata": {},
     "output_type": "display_data"
    }
   ],
   "source": [
    "showPos(1)"
   ]
  },
  {
   "cell_type": "code",
   "execution_count": 57,
   "metadata": {
    "collapsed": false
   },
   "outputs": [
    {
     "data": {
      "text/html": [
       "<div>\n",
       "<table border=\"1\" class=\"dataframe\">\n",
       "  <thead>\n",
       "    <tr style=\"text-align: right;\">\n",
       "      <th></th>\n",
       "      <th>delay</th>\n",
       "    </tr>\n",
       "    <tr>\n",
       "      <th>vvs_journey</th>\n",
       "      <th></th>\n",
       "    </tr>\n",
       "  </thead>\n",
       "  <tbody>\n",
       "    <tr>\n",
       "      <th>35275</th>\n",
       "      <td>257.704918</td>\n",
       "    </tr>\n",
       "    <tr>\n",
       "      <th>46804</th>\n",
       "      <td>244.354839</td>\n",
       "    </tr>\n",
       "    <tr>\n",
       "      <th>14977</th>\n",
       "      <td>230.250000</td>\n",
       "    </tr>\n",
       "    <tr>\n",
       "      <th>45695</th>\n",
       "      <td>217.377049</td>\n",
       "    </tr>\n",
       "    <tr>\n",
       "      <th>35250</th>\n",
       "      <td>210.000000</td>\n",
       "    </tr>\n",
       "    <tr>\n",
       "      <th>34263</th>\n",
       "      <td>183.636364</td>\n",
       "    </tr>\n",
       "    <tr>\n",
       "      <th>3832</th>\n",
       "      <td>180.000000</td>\n",
       "    </tr>\n",
       "    <tr>\n",
       "      <th>15325</th>\n",
       "      <td>168.292683</td>\n",
       "    </tr>\n",
       "    <tr>\n",
       "      <th>11849</th>\n",
       "      <td>167.142857</td>\n",
       "    </tr>\n",
       "    <tr>\n",
       "      <th>16958</th>\n",
       "      <td>144.000000</td>\n",
       "    </tr>\n",
       "    <tr>\n",
       "      <th>452</th>\n",
       "      <td>142.222222</td>\n",
       "    </tr>\n",
       "    <tr>\n",
       "      <th>2209</th>\n",
       "      <td>138.260870</td>\n",
       "    </tr>\n",
       "    <tr>\n",
       "      <th>21748</th>\n",
       "      <td>130.714286</td>\n",
       "    </tr>\n",
       "    <tr>\n",
       "      <th>35908</th>\n",
       "      <td>128.307692</td>\n",
       "    </tr>\n",
       "    <tr>\n",
       "      <th>39040</th>\n",
       "      <td>124.705882</td>\n",
       "    </tr>\n",
       "    <tr>\n",
       "      <th>40589</th>\n",
       "      <td>120.000000</td>\n",
       "    </tr>\n",
       "    <tr>\n",
       "      <th>38200</th>\n",
       "      <td>120.000000</td>\n",
       "    </tr>\n",
       "    <tr>\n",
       "      <th>8798</th>\n",
       "      <td>120.000000</td>\n",
       "    </tr>\n",
       "    <tr>\n",
       "      <th>7221</th>\n",
       "      <td>120.000000</td>\n",
       "    </tr>\n",
       "    <tr>\n",
       "      <th>40553</th>\n",
       "      <td>120.000000</td>\n",
       "    </tr>\n",
       "    <tr>\n",
       "      <th>23752</th>\n",
       "      <td>120.000000</td>\n",
       "    </tr>\n",
       "    <tr>\n",
       "      <th>46296</th>\n",
       "      <td>119.062500</td>\n",
       "    </tr>\n",
       "    <tr>\n",
       "      <th>29213</th>\n",
       "      <td>118.095238</td>\n",
       "    </tr>\n",
       "    <tr>\n",
       "      <th>3664</th>\n",
       "      <td>118.064516</td>\n",
       "    </tr>\n",
       "    <tr>\n",
       "      <th>25904</th>\n",
       "      <td>116.250000</td>\n",
       "    </tr>\n",
       "    <tr>\n",
       "      <th>28702</th>\n",
       "      <td>115.714286</td>\n",
       "    </tr>\n",
       "    <tr>\n",
       "      <th>15600</th>\n",
       "      <td>112.784810</td>\n",
       "    </tr>\n",
       "    <tr>\n",
       "      <th>39262</th>\n",
       "      <td>108.214286</td>\n",
       "    </tr>\n",
       "    <tr>\n",
       "      <th>16367</th>\n",
       "      <td>106.500000</td>\n",
       "    </tr>\n",
       "    <tr>\n",
       "      <th>39716</th>\n",
       "      <td>104.571429</td>\n",
       "    </tr>\n",
       "    <tr>\n",
       "      <th>...</th>\n",
       "      <td>...</td>\n",
       "    </tr>\n",
       "    <tr>\n",
       "      <th>32445</th>\n",
       "      <td>0.000000</td>\n",
       "    </tr>\n",
       "    <tr>\n",
       "      <th>14658</th>\n",
       "      <td>0.000000</td>\n",
       "    </tr>\n",
       "    <tr>\n",
       "      <th>14373</th>\n",
       "      <td>0.000000</td>\n",
       "    </tr>\n",
       "    <tr>\n",
       "      <th>33111</th>\n",
       "      <td>0.000000</td>\n",
       "    </tr>\n",
       "    <tr>\n",
       "      <th>14077</th>\n",
       "      <td>0.000000</td>\n",
       "    </tr>\n",
       "    <tr>\n",
       "      <th>14001</th>\n",
       "      <td>0.000000</td>\n",
       "    </tr>\n",
       "    <tr>\n",
       "      <th>34136</th>\n",
       "      <td>0.000000</td>\n",
       "    </tr>\n",
       "    <tr>\n",
       "      <th>13712</th>\n",
       "      <td>0.000000</td>\n",
       "    </tr>\n",
       "    <tr>\n",
       "      <th>13625</th>\n",
       "      <td>0.000000</td>\n",
       "    </tr>\n",
       "    <tr>\n",
       "      <th>13297</th>\n",
       "      <td>0.000000</td>\n",
       "    </tr>\n",
       "    <tr>\n",
       "      <th>13190</th>\n",
       "      <td>0.000000</td>\n",
       "    </tr>\n",
       "    <tr>\n",
       "      <th>12357</th>\n",
       "      <td>0.000000</td>\n",
       "    </tr>\n",
       "    <tr>\n",
       "      <th>12249</th>\n",
       "      <td>0.000000</td>\n",
       "    </tr>\n",
       "    <tr>\n",
       "      <th>17434</th>\n",
       "      <td>0.000000</td>\n",
       "    </tr>\n",
       "    <tr>\n",
       "      <th>6546</th>\n",
       "      <td>0.000000</td>\n",
       "    </tr>\n",
       "    <tr>\n",
       "      <th>11215</th>\n",
       "      <td>0.000000</td>\n",
       "    </tr>\n",
       "    <tr>\n",
       "      <th>37347</th>\n",
       "      <td>0.000000</td>\n",
       "    </tr>\n",
       "    <tr>\n",
       "      <th>17548</th>\n",
       "      <td>0.000000</td>\n",
       "    </tr>\n",
       "    <tr>\n",
       "      <th>28191</th>\n",
       "      <td>0.000000</td>\n",
       "    </tr>\n",
       "    <tr>\n",
       "      <th>37878</th>\n",
       "      <td>0.000000</td>\n",
       "    </tr>\n",
       "    <tr>\n",
       "      <th>28077</th>\n",
       "      <td>0.000000</td>\n",
       "    </tr>\n",
       "    <tr>\n",
       "      <th>38220</th>\n",
       "      <td>0.000000</td>\n",
       "    </tr>\n",
       "    <tr>\n",
       "      <th>27652</th>\n",
       "      <td>0.000000</td>\n",
       "    </tr>\n",
       "    <tr>\n",
       "      <th>9138</th>\n",
       "      <td>0.000000</td>\n",
       "    </tr>\n",
       "    <tr>\n",
       "      <th>27129</th>\n",
       "      <td>0.000000</td>\n",
       "    </tr>\n",
       "    <tr>\n",
       "      <th>7506</th>\n",
       "      <td>0.000000</td>\n",
       "    </tr>\n",
       "    <tr>\n",
       "      <th>18725</th>\n",
       "      <td>0.000000</td>\n",
       "    </tr>\n",
       "    <tr>\n",
       "      <th>15140</th>\n",
       "      <td>0.000000</td>\n",
       "    </tr>\n",
       "    <tr>\n",
       "      <th>19292</th>\n",
       "      <td>0.000000</td>\n",
       "    </tr>\n",
       "    <tr>\n",
       "      <th>48128</th>\n",
       "      <td>0.000000</td>\n",
       "    </tr>\n",
       "  </tbody>\n",
       "</table>\n",
       "<p>229 rows × 1 columns</p>\n",
       "</div>"
      ],
      "text/plain": [
       "                  delay\n",
       "vvs_journey            \n",
       "35275        257.704918\n",
       "46804        244.354839\n",
       "14977        230.250000\n",
       "45695        217.377049\n",
       "35250        210.000000\n",
       "34263        183.636364\n",
       "3832         180.000000\n",
       "15325        168.292683\n",
       "11849        167.142857\n",
       "16958        144.000000\n",
       "452          142.222222\n",
       "2209         138.260870\n",
       "21748        130.714286\n",
       "35908        128.307692\n",
       "39040        124.705882\n",
       "40589        120.000000\n",
       "38200        120.000000\n",
       "8798         120.000000\n",
       "7221         120.000000\n",
       "40553        120.000000\n",
       "23752        120.000000\n",
       "46296        119.062500\n",
       "29213        118.095238\n",
       "3664         118.064516\n",
       "25904        116.250000\n",
       "28702        115.714286\n",
       "15600        112.784810\n",
       "39262        108.214286\n",
       "16367        106.500000\n",
       "39716        104.571429\n",
       "...                 ...\n",
       "32445          0.000000\n",
       "14658          0.000000\n",
       "14373          0.000000\n",
       "33111          0.000000\n",
       "14077          0.000000\n",
       "14001          0.000000\n",
       "34136          0.000000\n",
       "13712          0.000000\n",
       "13625          0.000000\n",
       "13297          0.000000\n",
       "13190          0.000000\n",
       "12357          0.000000\n",
       "12249          0.000000\n",
       "17434          0.000000\n",
       "6546           0.000000\n",
       "11215          0.000000\n",
       "37347          0.000000\n",
       "17548          0.000000\n",
       "28191          0.000000\n",
       "37878          0.000000\n",
       "28077          0.000000\n",
       "38220          0.000000\n",
       "27652          0.000000\n",
       "9138           0.000000\n",
       "27129          0.000000\n",
       "7506           0.000000\n",
       "18725          0.000000\n",
       "15140          0.000000\n",
       "19292          0.000000\n",
       "48128          0.000000\n",
       "\n",
       "[229 rows x 1 columns]"
      ]
     },
     "execution_count": 57,
     "metadata": {},
     "output_type": "execute_result"
    }
   ],
   "source": [
    "# delays per journey\n",
    "df_data_bus82_min = pd.DataFrame(df_data_bus82, columns=['vvs_journey','delay'])\n",
    "df_data_bus82_min.groupby('vvs_journey').mean().sort_values('delay', ascending=False)"
   ]
  },
  {
   "cell_type": "code",
   "execution_count": null,
   "metadata": {
    "collapsed": true
   },
   "outputs": [],
   "source": []
  }
 ],
 "metadata": {
  "kernelspec": {
   "display_name": "Django Shell-Plus",
   "language": "python",
   "name": "django_extensions"
  },
  "language_info": {
   "codemirror_mode": {
    "name": "ipython",
    "version": 3
   },
   "file_extension": ".py",
   "mimetype": "text/x-python",
   "name": "python",
   "nbconvert_exporter": "python",
   "pygments_lexer": "ipython3",
   "version": "3.5.1"
  }
 },
 "nbformat": 4,
 "nbformat_minor": 0
}
