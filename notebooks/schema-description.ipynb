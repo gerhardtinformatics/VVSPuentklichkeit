{
 "cells": [
  {
   "cell_type": "markdown",
   "metadata": {},
   "source": [
    "# Response\n",
    "* \"CurrentStop\": \"5006333#2#6\",\n",
    "* \"DayOfOperation\": \"\\/Date(1454799600000+0100)\\/\",\n",
    "* \"Delay\": 0, \n",
    "* \"DirectionText\": \"Stuttgart Hauptbahnhof (oben)\",\n",
    "* \"ID\": \"26791078\",\n",
    "* \"IsAtStop\": true,\n",
    "* \"JourneyIdentifier\": \"19902\",\n",
    "* \"Latitude\": \"175640592\",\n",
    "* \"LatitudeBefore\": \"175641873\",\n",
    "* \"LineText\": \"R-Bahn R3\",\n",
    "* \"Longitude\": \"33073303\",\n",
    "* \"LongitudeBefore\": \"33075216\",\n",
    "* \"ModCode\": 0,\n",
    "* \"NextStop\": \"5006115#1#11\",\n",
    "* \"Operator\": \"\",\n",
    "* \"ProductIdentifier\": \"PTTYPE-0\",\n",
    "* \"RealtimeAvailable\": 1,\n",
    "* \"Timestamp\": \"\\/Date(1454926660000)\\/\",\n",
    "* \"TimestampBefore\": \"\\/Date(1454926653000)\\/\""
   ]
  },
  {
   "cell_type": "markdown",
   "metadata": {},
   "source": [
    "JourneyIdentifier, ID are internal ids, i'm not sure if we should use them"
   ]
  },
  {
   "cell_type": "markdown",
   "metadata": {},
   "source": [
    "The unit of 'Delay' seems to be seconds. Values are like 60,180 ..."
   ]
  },
  {
   "cell_type": "markdown",
   "metadata": {},
   "source": [
    "Latitude, LatitudeBefore, Longitude, LongitudeBefore fields are in GPS milliseconds. Divide them back with 3600000 and you get a normal GPS format"
   ]
  },
  {
   "cell_type": "markdown",
   "metadata": {},
   "source": [
    "Definition for Journey (by the models): Every Journey is a Transport on a given day."
   ]
  }
 ],
 "metadata": {
  "kernelspec": {
   "display_name": "Django Shell-Plus",
   "language": "python",
   "name": "django_extensions"
  },
  "language_info": {
   "codemirror_mode": {
    "name": "ipython",
    "version": 3
   },
   "file_extension": ".py",
   "mimetype": "text/x-python",
   "name": "python",
   "nbconvert_exporter": "python",
   "pygments_lexer": "ipython3",
   "version": "3.5.1"
  }
 },
 "nbformat": 4,
 "nbformat_minor": 0
}
